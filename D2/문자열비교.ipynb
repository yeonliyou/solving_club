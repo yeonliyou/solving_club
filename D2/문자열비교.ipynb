{
 "cells": [
  {
   "attachments": {
    "image.png": {
     "image/png": "[encoded data removed]"
    }
   },
   "cell_type": "markdown",
   "id": "b6b0a68c",
   "metadata": {},
   "source": [
    "### [파이썬 S/W 문제해결 기본] 3일차 - 문자열 비교\n",
    "두 개의 문자열 str1과 str2가 주어진다. 문자열 str2 안에 str1과 일치하는 부분이 있는지 찾는 프로그램을 만드시오.\n",
    "\n",
    "예를 들어 두 개의 문자열이 다음과 같이 주어질 때, 첫 문자열이 두번째에 존재하면 1, 존재하지 않으면 0을 출력한다.\n",
    " \n",
    "\n",
    "ABC\n",
    "\n",
    "ZZZZZABCZZZZZ\n",
    "\n",
    "두번째 문자열에 첫번째 문자열과 일치하는 부분이 있으므로 1을 출력.\n",
    " \n",
    "\n",
    "ABC\n",
    "\n",
    "ZZZZAZBCZZZZZ\n",
    "\n",
    "문자열이 일치하지 않으므로 0을 출력.\n",
    "\n",
    " \n",
    " \n",
    "\n",
    "[입력]\n",
    " \n",
    "\n",
    "첫 줄에 테스트 케이스 개수 T가 주어진다.  (1≤T≤50)\n",
    " \n",
    "\n",
    "다음 줄부터 테스트 케이스 별로 길이가 N인 문자열 str1과 길이가 M인 str2가 각각 다른 줄에 주어집니다. (5≤N≤100, 10≤M≤1000, N≤M)\n",
    "\n",
    " \n",
    "\n",
    "[출력]\n",
    " \n",
    "\n",
    "각 줄마다 \"#T\" (T는 테스트 케이스 번호)를 출력한 뒤, 답을 출력한다.\n",
    "\n",
    "![image.png](attachment:image.png)"
   ]
  },
  {
   "cell_type": "code",
   "execution_count": null,
   "id": "7462d296",
   "metadata": {},
   "outputs": [
    {
     "name": "stdout",
     "output_type": "stream",
     "text": [
      "#1 1\n",
      "#2 1\n",
      "#3 1\n"
     ]
    }
   ],
   "source": [
    "T = int(input())\n",
    "\n",
    "for _ in range(T):\n",
    "    str1 = input().strip()\n",
    "    str2 = input().strip()\n",
    "    ans = 0\n",
    "\n",
    "    for i in range(len(str2)-len(str1)+1):\n",
    "        check = str2[i:i+len(str1)]\n",
    "        if str1 == check:\n",
    "            ans = 1\n",
    "            break\n",
    "        else:\n",
    "            continue\n",
    "\n",
    "    print(f'#{_+1}', ans)"
   ]
  }
 ],
 "metadata": {
  "kernelspec": {
   "display_name": "Python 3",
   "language": "python",
   "name": "python3"
  },
  "language_info": {
   "codemirror_mode": {
    "name": "ipython",
    "version": 3
   },
   "file_extension": ".py",
   "mimetype": "text/x-python",
   "name": "python",
   "nbconvert_exporter": "python",
   "pygments_lexer": "ipython3",
   "version": "3.11.9"
  }
 },
 "nbformat": 4,
 "nbformat_minor": 5
}
