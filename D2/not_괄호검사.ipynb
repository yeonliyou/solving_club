{
 "cells": [
  {
   "attachments": {
    "image.png": {
     "image/png": "[encoded data removed]"
    }
   },
   "cell_type": "markdown",
   "id": "b34c3957",
   "metadata": {},
   "source": [
    "### [파이썬 S/W 문제해결 기본] 4일차 - 괄호검사\n",
    "\n",
    "주어진 입력에서 괄호 {}, ()가 제대로 짝을 이뤘는지 검사하는 프로그램을 만드시오.\n",
    " \n",
    "\n",
    "예를 들어 {( )}는 제대로 된 짝이지만, {( })는 제대로 된 짝이 아니다. 입력은 한 줄의 파이썬 코드일수도 있고, 괄호만 주어질 수도 있다.\n",
    " \n",
    "\n",
    "정상적으로 짝을 이룬 경우 1, 그렇지 않으면 0을 출력한다.\n",
    " \n",
    "\n",
    "print(‘{‘) 같은 경우는 입력으로 주어지지 않으므로 고려하지 않아도 된다.\n",
    "\n",
    "\n",
    " \n",
    "\n",
    "[입력]\n",
    "\n",
    "\n",
    "첫 줄에 테스트 케이스 개수 T가 주어진다.  1≤T≤50\n",
    " \n",
    "\n",
    "다음 줄부터 테스트 케이스 별로 온전한 형태이거나 괄호만 남긴 한 줄의 코드가 주어진다.\n",
    "\n",
    " \n",
    "\n",
    "[출력]\n",
    " \n",
    "\n",
    "각 줄마다 \"#T\" (T는 테스트 케이스 번호)를 출력한 뒤, 답을 출력한다.\n",
    "\n",
    "![image.png](attachment:image.png)"
   ]
  },
  {
   "cell_type": "code",
   "execution_count": null,
   "id": "67028b7d",
   "metadata": {},
   "outputs": [
    {
     "name": "stdout",
     "output_type": "stream",
     "text": [
      "#1 0\n"
     ]
    }
   ],
   "source": [
    "import copy\n",
    "\n",
    "T = int(input())\n",
    "\n",
    "check_list1 = ['(',')']\n",
    "check_list2 = ['{','}']\n",
    "\n",
    "for _ in range(T):\n",
    "    ans = 1\n",
    "    sample_list = list(input())\n",
    "    for i in range(len(sample_list)-1):\n",
    "        string_sam = sample_list[i]\n",
    "        if string_sam in check_list1:\n",
    "            ex = copy.deepcopy(check_list1)\n",
    "            ex.remove(string_sam)\n",
    "            ex = ex[0]==\n",
    "            if sample_list[i+1] == ex:\n",
    "                continue\n",
    "            else:\n",
    "                ans = 0\n",
    "                break\n",
    "        elif string_sam in check_list2:\n",
    "            ex = copy.deepcopy(check_list2)\n",
    "            ex.remove(string_sam)\n",
    "            ex = ex[0]\n",
    "            if sample_list[i+1] == ex:\n",
    "                continue\n",
    "            else:\n",
    "                ans = 0\n",
    "                break\n",
    "\n",
    "        else:\n",
    "            continue\n",
    "    \n",
    "    print(f'#{_+1}', ans)\n"
   ]
  },
  {
   "cell_type": "code",
   "execution_count": null,
   "id": "9fc65492",
   "metadata": {},
   "outputs": [],
   "source": [
    "import copy\n",
    "\n",
    "T = int(input())\n",
    "\n",
    "check_list1 = ['(',')']\n",
    "check_list2 = ['{','}']\n",
    "\n",
    "for _ in range(T):\n",
    "    ans = 1\n",
    "    sample_list = list(input())\n",
    "    par_list1 = [] # ()\n",
    "    par_list2 =[] # {}\n",
    "\n",
    "    #중괄호들만 있는 리스트 만들기\n",
    "    #괄호만 있는 리스트 만들기\n",
    "    for j in sample_list:\n",
    "        if j in check_list1:\n",
    "            par_list1.append(j)\n",
    "        elif j in check_list2:\n",
    "            par_list2.append(j)\n",
    "        else:\n",
    "            continue\n",
    "    \n",
    "    for i in range(len(par_list1)-1):\n",
    "        string_sam = sample_list[i]\n",
    "        if string_sam in check_list1:\n",
    "            ex = copy.deepcopy(check_list1)\n",
    "            ex.remove(string_sam)\n",
    "            ex = ex[0]\n",
    "            if sample_list[-(i+1)] == ex:\n",
    "                continue\n",
    "            else:\n",
    "                ans = 0\n",
    "                break\n",
    "        elif string_sam in check_list2:\n",
    "            ex = copy.deepcopy(check_list2)\n",
    "            ex.remove(string_sam)\n",
    "            ex = ex[0]\n",
    "            if sample_list[i+1] == ex:\n",
    "                continue\n",
    "            else:\n",
    "                ans = 0\n",
    "                break\n",
    "\n",
    "        else:\n",
    "            continue\n",
    "    \n",
    "    print(f'#{_+1}', ans)\n"
   ]
  },
  {
   "cell_type": "code",
   "execution_count": 8,
   "id": "b3baeca6",
   "metadata": {},
   "outputs": [
    {
     "name": "stdout",
     "output_type": "stream",
     "text": [
      "]\n"
     ]
    }
   ],
   "source": [
    "import copy\n",
    "\n",
    "check_list1 = ['[',']']\n",
    "string_sam = '['\n",
    "ex = copy.deepcopy(check_list1)\n",
    "ex.remove(string_sam)\n",
    "ex = ex[0]\n",
    "print(ex)\n",
    "#remove(string_sam)[0]"
   ]
  },
  {
   "cell_type": "code",
   "execution_count": null,
   "id": "33d4359b",
   "metadata": {},
   "outputs": [],
   "source": [
    "#반띵 잘라서?"
   ]
  },
  {
   "cell_type": "code",
   "execution_count": null,
   "id": "66212504",
   "metadata": {},
   "outputs": [],
   "source": [
    "()\n",
    "{}{}\n",
    "\n",
    "(()())\n",
    "\n",
    "((())"
   ]
  }
 ],
 "metadata": {
  "kernelspec": {
   "display_name": "Python 3",
   "language": "python",
   "name": "python3"
  },
  "language_info": {
   "codemirror_mode": {
    "name": "ipython",
    "version": 3
   },
   "file_extension": ".py",
   "mimetype": "text/x-python",
   "name": "python",
   "nbconvert_exporter": "python",
   "pygments_lexer": "ipython3",
   "version": "3.11.9"
  }
 },
 "nbformat": 4,
 "nbformat_minor": 5
}
