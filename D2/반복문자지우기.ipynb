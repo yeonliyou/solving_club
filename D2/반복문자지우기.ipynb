{
 "cells": [
  {
   "attachments": {
    "image.png": {
     "image/png": "[encoded data removed]"
    }
   },
   "cell_type": "markdown",
   "id": "9ba2036e",
   "metadata": {},
   "source": [
    "### [파이썬 S/W 문제해결 기본] 4일차 - 반복문자 지우기\n",
    "\n",
    "\n",
    "문자열 s에서 반복된 문자를 지우려고 한다. 지워진 부분은 다시 앞뒤를 연결하는데, 만약 연결에 의해 또 반복문자가 생기면 이부분을 다시 지운다.\n",
    "\n",
    "반복문자를 지운 후 남은 문자열의 길이를 출력 하시오. 남은 문자열이 없으면 0을 출력한다.\n",
    " \n",
    "\n",
    "다음은 CAAABBA에서 반복문자를 지우는 경우의 예이다.\n",
    " \n",
    "\n",
    "CAAABBA 연속 문자 AA를 지우고 C와 A를 잇는다.\n",
    "\n",
    "CABBA 연속 문자 BB를 지우고 A와 A를 잇는다.\n",
    "\n",
    "CAA 연속 문자 AA를 지운다.\n",
    "\n",
    "C 1글자가 남았으므로 1을 리턴한다.\n",
    "\n",
    " \n",
    " \n",
    "\n",
    "[입력]\n",
    " \n",
    "\n",
    "첫 줄에 테스트 케이스 개수 T가 주어진다.  1≤T≤ 50\n",
    " \n",
    "\n",
    "다음 줄부터 테스트 케이스의 별로 길이가 1000이내인 문자열이 주어진다.\n",
    "\n",
    " \n",
    "\n",
    "[출력]\n",
    " \n",
    "\n",
    "#과 1번부터인 테스트케이스 번호, 빈칸에 이어 답을 출력한다.\n",
    "\n",
    "![image.png](attachment:image.png)"
   ]
  },
  {
   "cell_type": "code",
   "execution_count": 22,
   "id": "553df8ed",
   "metadata": {},
   "outputs": [
    {
     "name": "stdout",
     "output_type": "stream",
     "text": [
      "#1 1\n",
      "#2 4\n",
      "#3 11\n"
     ]
    }
   ],
   "source": [
    "#정답\n",
    "T = int(input())\n",
    "\n",
    "def check_numbers(my_list, idx):\n",
    "    count_value = 1\n",
    "    if my_list[idx] == my_list[idx+1]:\n",
    "        count_value += 1\n",
    "    else:\n",
    "        pass\n",
    "    return count_value\n",
    "\n",
    "\n",
    "for _ in range(T):\n",
    "    string_sample = list(input())\n",
    "    i = 0\n",
    "\n",
    "    while i != len(string_sample)-1:\n",
    "        count_value = check_numbers(string_sample, i)\n",
    "        if count_value > 1:\n",
    "            #해당 인덱스 리스트 요소 전부 삭제\n",
    "            string_sample[i:i+count_value] = ''\n",
    "            i = 0\n",
    "        else:\n",
    "            i += 1\n",
    "    \n",
    "    print(f'#{_+1}', len(string_sample))\n"
   ]
  },
  {
   "cell_type": "code",
   "execution_count": null,
   "id": "3a1683a9",
   "metadata": {},
   "outputs": [],
   "source": [
    "#내 맘대로 심화 버전 ^^ ... 연속하는 문자 다 지우기\n",
    "T = int(input())\n",
    "\n",
    "def check_numbers(my_list, idx):\n",
    "    count_value = 0\n",
    "    for i in range(idx,len(my_list)):\n",
    "        if my_list[idx] == my_list[i]:\n",
    "            count_value += 1\n",
    "        else:\n",
    "            break\n",
    "    return count_value\n",
    "\n",
    "\n",
    "for _ in range(T):\n",
    "    string_sample = list(input())\n",
    "    i = 0\n",
    "\n",
    "    while i != len(string_sample):\n",
    "        count_value = check_numbers(string_sample, i)\n",
    "        if count_value > 1:\n",
    "            #해당 인덱스 리스트 요소 전부 삭제\n",
    "            string_sample[i:i+count_value] = ''\n",
    "            i = 0\n",
    "        else:\n",
    "            i += 1\n",
    "    \n",
    "    print(f'#{_+1}', len(string_sample))\n",
    "\n"
   ]
  }
 ],
 "metadata": {
  "kernelspec": {
   "display_name": "Python 3",
   "language": "python",
   "name": "python3"
  },
  "language_info": {
   "codemirror_mode": {
    "name": "ipython",
    "version": 3
   },
   "file_extension": ".py",
   "mimetype": "text/x-python",
   "name": "python",
   "nbconvert_exporter": "python",
   "pygments_lexer": "ipython3",
   "version": "3.11.9"
  }
 },
 "nbformat": 4,
 "nbformat_minor": 5
}
