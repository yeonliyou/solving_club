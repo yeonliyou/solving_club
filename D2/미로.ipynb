{
 "cells": [
  {
   "cell_type": "markdown",
   "id": "b179c04b",
   "metadata": {},
   "source": [
    "### [파이썬 S/W 문제해결 기본] 5일차 - 미로\n",
    "\n"
   ]
  },
  {
   "cell_type": "markdown",
   "id": "625b70f7",
   "metadata": {},
   "source": [
    "### DFS"
   ]
  },
  {
   "cell_type": "code",
   "execution_count": 5,
   "id": "787d2de7",
   "metadata": {},
   "outputs": [
    {
     "name": "stdout",
     "output_type": "stream",
     "text": [
      "#1 0\n"
     ]
    }
   ],
   "source": [
    "#지피티 힌트 -> DFS & flag\n",
    "# 2의 위치 찾기\n",
    "def find_two(matrix, N):\n",
    "    a = False\n",
    "    for i in range(N):\n",
    "        for j in range(N):\n",
    "            if matrix[i][j] == '2':\n",
    "                two_row = i\n",
    "                two_col = j\n",
    "                a = True\n",
    "                break\n",
    "        if a:\n",
    "            break\n",
    "    return two_row, two_col\n",
    "\n",
    "\n",
    "# 3에 도달 가능한지 확인\n",
    "def dfs(x, y, N, matrix, visited):\n",
    "    visited[x][y] = True\n",
    "\n",
    "    # 상, 하, 좌, 우 더해주고 빼주는 좌표\n",
    "    dx = [-1, 1, 0, 0]\n",
    "    dy = [0, 0, -1, 1]\n",
    "\n",
    "    #상, 하, 좌, 우 4번 \n",
    "    for i in range(4):\n",
    "        nx = x + dx[i]\n",
    "        ny = y + dy[i]\n",
    "\n",
    "        if 0 <= nx < N and 0 <= ny < N and visited[nx][ny] == False:\n",
    "            if matrix[nx][ny] == '0':\n",
    "                dfs(nx, ny, N, matrix, visited)\n",
    "            elif matrix[nx][ny] == '3':\n",
    "                # 도착하면 true\n",
    "                visited[nx][ny] = True\n",
    "                break\n",
    "            else:\n",
    "                continue\n",
    "\n",
    "\n",
    "T = int(input())\n",
    "\n",
    "for t in range(T):\n",
    "    N = int(input())\n",
    "    matrix = []\n",
    "    for _ in range(N):\n",
    "        matrix.append(list(input().strip()))\n",
    "\n",
    "    #깊은 복사\n",
    "    visited = [[False]*N for _ in range(N)] #flag 만들기\n",
    "\n",
    "    #2의. 먼저 찾기 위치\n",
    "    sx, sy = find_two(matrix, N)\n",
    "    dfs(sx, sy, N, matrix, visited)\n",
    "\n",
    "    found = 0\n",
    "    \n",
    "    for i in range(N):\n",
    "        for j in range(N):\n",
    "            # 요소가 3이면서 방문했다면\n",
    "            if matrix[i][j] == '3' and visited[i][j] == True:\n",
    "                found = 1\n",
    "                break\n",
    "\n",
    "        if found == 1:\n",
    "            break\n",
    "\n",
    "    print(f'#{t+1}',found)\n"
   ]
  }
 ],
 "metadata": {
  "kernelspec": {
   "display_name": "base",
   "language": "python",
   "name": "python3"
  },
  "language_info": {
   "codemirror_mode": {
    "name": "ipython",
    "version": 3
   },
   "file_extension": ".py",
   "mimetype": "text/x-python",
   "name": "python",
   "nbconvert_exporter": "python",
   "pygments_lexer": "ipython3",
   "version": "3.12.7"
  }
 },
 "nbformat": 4,
 "nbformat_minor": 5
}
